{
 "cells": [
  {
   "cell_type": "code",
   "execution_count": 67,
   "metadata": {},
   "outputs": [],
   "source": [
    "import numpy as np\n",
    "import pandas as pd\n",
    "import matplotlib.pyplot as plt\n",
    "import seaborn as sbn"
   ]
  },
  {
   "cell_type": "code",
   "execution_count": 68,
   "metadata": {},
   "outputs": [
    {
     "data": {
      "text/html": [
       "<div>\n",
       "<style scoped>\n",
       "    .dataframe tbody tr th:only-of-type {\n",
       "        vertical-align: middle;\n",
       "    }\n",
       "\n",
       "    .dataframe tbody tr th {\n",
       "        vertical-align: top;\n",
       "    }\n",
       "\n",
       "    .dataframe thead th {\n",
       "        text-align: right;\n",
       "    }\n",
       "</style>\n",
       "<table border=\"1\" class=\"dataframe\">\n",
       "  <thead>\n",
       "    <tr style=\"text-align: right;\">\n",
       "      <th></th>\n",
       "      <th>4.5192</th>\n",
       "      <th>2.6487</th>\n",
       "      <th>1.0</th>\n",
       "    </tr>\n",
       "  </thead>\n",
       "  <tbody>\n",
       "    <tr>\n",
       "      <th>0</th>\n",
       "      <td>2.4443</td>\n",
       "      <td>1.5438</td>\n",
       "      <td>1.0</td>\n",
       "    </tr>\n",
       "    <tr>\n",
       "      <th>1</th>\n",
       "      <td>4.2409</td>\n",
       "      <td>1.8990</td>\n",
       "      <td>1.0</td>\n",
       "    </tr>\n",
       "    <tr>\n",
       "      <th>2</th>\n",
       "      <td>5.8097</td>\n",
       "      <td>2.4711</td>\n",
       "      <td>1.0</td>\n",
       "    </tr>\n",
       "    <tr>\n",
       "      <th>3</th>\n",
       "      <td>6.4423</td>\n",
       "      <td>3.3590</td>\n",
       "      <td>1.0</td>\n",
       "    </tr>\n",
       "    <tr>\n",
       "      <th>4</th>\n",
       "      <td>5.8097</td>\n",
       "      <td>3.2406</td>\n",
       "      <td>1.0</td>\n",
       "    </tr>\n",
       "    <tr>\n",
       "      <th>...</th>\n",
       "      <td>...</td>\n",
       "      <td>...</td>\n",
       "      <td>...</td>\n",
       "    </tr>\n",
       "    <tr>\n",
       "      <th>94</th>\n",
       "      <td>5.9868</td>\n",
       "      <td>7.3641</td>\n",
       "      <td>0.0</td>\n",
       "    </tr>\n",
       "    <tr>\n",
       "      <th>95</th>\n",
       "      <td>4.6711</td>\n",
       "      <td>6.2592</td>\n",
       "      <td>0.0</td>\n",
       "    </tr>\n",
       "    <tr>\n",
       "      <th>96</th>\n",
       "      <td>7.5810</td>\n",
       "      <td>8.3703</td>\n",
       "      <td>0.0</td>\n",
       "    </tr>\n",
       "    <tr>\n",
       "      <th>97</th>\n",
       "      <td>4.6457</td>\n",
       "      <td>8.5676</td>\n",
       "      <td>0.0</td>\n",
       "    </tr>\n",
       "    <tr>\n",
       "      <th>98</th>\n",
       "      <td>4.6457</td>\n",
       "      <td>8.1676</td>\n",
       "      <td>0.0</td>\n",
       "    </tr>\n",
       "  </tbody>\n",
       "</table>\n",
       "<p>99 rows × 3 columns</p>\n",
       "</div>"
      ],
      "text/plain": [
       "    4.5192  2.6487  1.0\n",
       "0   2.4443  1.5438  1.0\n",
       "1   4.2409  1.8990  1.0\n",
       "2   5.8097  2.4711  1.0\n",
       "3   6.4423  3.3590  1.0\n",
       "4   5.8097  3.2406  1.0\n",
       "..     ...     ...  ...\n",
       "94  5.9868  7.3641  0.0\n",
       "95  4.6711  6.2592  0.0\n",
       "96  7.5810  8.3703  0.0\n",
       "97  4.6457  8.5676  0.0\n",
       "98  4.6457  8.1676  0.0\n",
       "\n",
       "[99 rows x 3 columns]"
      ]
     },
     "execution_count": 68,
     "metadata": {},
     "output_type": "execute_result"
    }
   ],
   "source": [
    "df = pd.read_csv('dataset1.csv')\n",
    "df\n"
   ]
  },
  {
   "cell_type": "code",
   "execution_count": 69,
   "metadata": {},
   "outputs": [
    {
     "data": {
      "image/png": "[encoded data removed]",
      "text/plain": [
       "<Figure size 1440x432 with 1 Axes>"
      ]
     },
     "metadata": {
      "needs_background": "light"
     },
     "output_type": "display_data"
    }
   ],
   "source": [
    "plt.figure(figsize=(20,6))\n",
    "plt.scatter(df.iloc[:,0:1].values,df.iloc[:,2:].values)\n",
    "plt.show()"
   ]
  },
  {
   "cell_type": "code",
   "execution_count": 70,
   "metadata": {},
   "outputs": [
    {
     "data": {
      "image/png": "[encoded data removed]",
      "text/plain": [
       "<Figure size 1440x432 with 1 Axes>"
      ]
     },
     "metadata": {
      "needs_background": "light"
     },
     "output_type": "display_data"
    }
   ],
   "source": [
    "plt.figure(figsize=(20,6))\n",
    "plt.scatter(df.iloc[:,1:2].values,df.iloc[:,2:].values)\n",
    "plt.show()"
   ]
  },
  {
   "cell_type": "code",
   "execution_count": 71,
   "metadata": {},
   "outputs": [
    {
     "data": {
      "text/plain": [
       "array([[2.4443, 1.5438],\n",
       "       [4.2409, 1.899 ],\n",
       "       [5.8097, 2.4711],\n",
       "       [6.4423, 3.359 ],\n",
       "       [5.8097, 3.2406],\n",
       "       [6.3917, 3.8128],\n",
       "       [6.8725, 4.4441],\n",
       "       [6.7966, 3.6747],\n",
       "       [8.163 , 4.7401],\n",
       "       [7.4038, 3.8917],\n",
       "       [7.6316, 4.602 ],\n",
       "       [7.7581, 5.7265],\n",
       "       [6.5688, 4.9571],\n",
       "       [5.3543, 3.9903],\n",
       "       [4.4686, 3.0236],\n",
       "       [2.9757, 2.0568],\n",
       "       [2.4443, 1.2676],\n",
       "       [0.9008, 1.169 ],\n",
       "       [2.1154, 1.7411],\n",
       "       [3.2794, 1.386 ],\n",
       "       [4.165 , 1.5636],\n",
       "       [4.8482, 1.8793],\n",
       "       [3.33  , 2.7868],\n",
       "       [5.1518, 3.5563],\n",
       "       [6.2652, 4.0693],\n",
       "       [6.2652, 4.3849],\n",
       "       [7.2014, 1.5438],\n",
       "       [7.6569, 2.412 ],\n",
       "       [6.1387, 1.7806],\n",
       "       [4.4939, 1.4057],\n",
       "       [4.8735, 2.6093],\n",
       "       [5.5314, 3.0828],\n",
       "       [6.0121, 3.9311],\n",
       "       [7.1508, 4.7598],\n",
       "       [7.7075, 5.3122],\n",
       "       [8.3148, 5.7068],\n",
       "       [8.5172, 5.1149],\n",
       "       [8.7449, 5.4109],\n",
       "       [7.8593, 3.8128],\n",
       "       [6.999 , 3.2406],\n",
       "       [5.5061, 2.9052],\n",
       "       [4.9241, 2.6882],\n",
       "       [6.6447, 3.8325],\n",
       "       [7.6822, 4.5428],\n",
       "       [8.0364, 5.7857],\n",
       "       [8.9221, 6.5552],\n",
       "       [7.8593, 5.253 ],\n",
       "       [6.5941, 5.2333],\n",
       "       [6.0374, 4.7598],\n",
       "       [2.7227, 4.5822],\n",
       "       [1.9383, 3.6549],\n",
       "       [1.6852, 2.9841],\n",
       "       [4.3168, 4.4244],\n",
       "       [3.4312, 3.7536],\n",
       "       [5.4808, 5.2728],\n",
       "       [4.1144, 4.8387],\n",
       "       [3.2034, 4.4244],\n",
       "       [4.1144, 5.3911],\n",
       "       [5.1012, 6.0817],\n",
       "       [4.8988, 5.5687],\n",
       "       [5.9615, 6.4565],\n",
       "       [5.7591, 6.0028],\n",
       "       [6.6953, 6.7722],\n",
       "       [5.7338, 6.6538],\n",
       "       [6.6194, 7.1471],\n",
       "       [7.2014, 7.5219],\n",
       "       [7.2014, 6.8314],\n",
       "       [8.5931, 7.6206],\n",
       "       [7.7581, 7.1865],\n",
       "       [7.7581, 7.7784],\n",
       "       [5.1012, 7.6009],\n",
       "       [4.2156, 6.496 ],\n",
       "       [3.4818, 5.8055],\n",
       "       [2.3684, 5.0163],\n",
       "       [1.7864, 4.1876],\n",
       "       [0.9008, 3.4379],\n",
       "       [0.9008, 5.7857],\n",
       "       [1.9636, 6.3382],\n",
       "       [1.4069, 4.9571],\n",
       "       [2.419 , 6.8511],\n",
       "       [2.8745, 6.0817],\n",
       "       [4.0132, 7.1668],\n",
       "       [4.6711, 7.226 ],\n",
       "       [5.1771, 8.1533],\n",
       "       [6.2146, 7.4825],\n",
       "       [5.4555, 7.0484],\n",
       "       [5.9868, 8.5084],\n",
       "       [4.0891, 7.5417],\n",
       "       [2.3937, 7.2063],\n",
       "       [1.331 , 6.5355],\n",
       "       [1.7358, 5.4503],\n",
       "       [2.4443, 5.8449],\n",
       "       [3.1781, 4.8979],\n",
       "       [4.6711, 5.8055],\n",
       "       [5.9868, 7.3641],\n",
       "       [4.6711, 6.2592],\n",
       "       [7.581 , 8.3703],\n",
       "       [4.6457, 8.5676],\n",
       "       [4.6457, 8.1676]])"
      ]
     },
     "execution_count": 71,
     "metadata": {},
     "output_type": "execute_result"
    }
   ],
   "source": [
    "x = df.iloc[:,:-1].values\n",
    "x"
   ]
  },
  {
   "cell_type": "code",
   "execution_count": 72,
   "metadata": {},
   "outputs": [
    {
     "data": {
      "text/plain": [
       "array([1., 1., 1., 1., 1., 1., 1., 1., 1., 1., 1., 1., 1., 1., 1., 1., 1.,\n",
       "       1., 1., 1., 1., 1., 1., 1., 1., 1., 1., 1., 1., 1., 1., 1., 1., 1.,\n",
       "       1., 1., 1., 1., 1., 1., 1., 1., 1., 1., 1., 1., 1., 1., 1., 0., 0.,\n",
       "       0., 0., 0., 0., 0., 0., 0., 0., 0., 0., 0., 0., 0., 0., 0., 0., 0.,\n",
       "       0., 0., 0., 0., 0., 0., 0., 0., 0., 0., 0., 0., 0., 0., 0., 0., 0.,\n",
       "       0., 0., 0., 0., 0., 0., 0., 0., 0., 0., 0., 0., 0., 0.])"
      ]
     },
     "execution_count": 72,
     "metadata": {},
     "output_type": "execute_result"
    }
   ],
   "source": [
    "y = df.iloc[:,2].values\n",
    "y"
   ]
  },
  {
   "cell_type": "code",
   "execution_count": 73,
   "metadata": {},
   "outputs": [],
   "source": [
    "from sklearn.model_selection import train_test_split as tts\n",
    "x_train,x_test,y_train,y_test = tts(x,y,test_size=0.25)"
   ]
  },
  {
   "cell_type": "code",
   "execution_count": 74,
   "metadata": {},
   "outputs": [
    {
     "data": {
      "text/plain": [
       "LogisticRegression()"
      ]
     },
     "execution_count": 74,
     "metadata": {},
     "output_type": "execute_result"
    }
   ],
   "source": [
    "from sklearn.linear_model import LogisticRegression\n",
    "model = LogisticRegression()\n",
    "model.fit(x_train,y_train)"
   ]
  },
  {
   "cell_type": "code",
   "execution_count": 75,
   "metadata": {},
   "outputs": [
    {
     "data": {
      "text/plain": [
       "array([0., 0., 0., 0., 0., 1., 0., 0., 0., 0., 1., 1., 0., 0., 1., 0., 0.,\n",
       "       0., 0., 1., 0., 1., 0., 1., 0.])"
      ]
     },
     "execution_count": 75,
     "metadata": {},
     "output_type": "execute_result"
    }
   ],
   "source": [
    "y_pred = model.predict(x_test)\n",
    "y_pred"
   ]
  },
  {
   "cell_type": "code",
   "execution_count": 76,
   "metadata": {},
   "outputs": [
    {
     "data": {
      "text/plain": [
       "array([0., 0., 0., 0., 0., 1., 0., 0., 0., 0., 1., 1., 0., 0., 1., 0., 0.,\n",
       "       0., 0., 1., 0., 1., 0., 1., 0.])"
      ]
     },
     "execution_count": 76,
     "metadata": {},
     "output_type": "execute_result"
    }
   ],
   "source": [
    "y_test"
   ]
  },
  {
   "cell_type": "code",
   "execution_count": 77,
   "metadata": {},
   "outputs": [
    {
     "data": {
      "text/plain": [
       "1.0"
      ]
     },
     "execution_count": 77,
     "metadata": {},
     "output_type": "execute_result"
    }
   ],
   "source": [
    "model.score(x_test,y_test)"
   ]
  },
  {
   "cell_type": "code",
   "execution_count": 78,
   "metadata": {},
   "outputs": [],
   "source": [
    "from sklearn.metrics import classification_report, confusion_matrix"
   ]
  },
  {
   "cell_type": "code",
   "execution_count": 79,
   "metadata": {},
   "outputs": [
    {
     "data": {
      "text/plain": [
       "array([[18,  0],\n",
       "       [ 0,  7]])"
      ]
     },
     "execution_count": 79,
     "metadata": {},
     "output_type": "execute_result"
    }
   ],
   "source": [
    "cm = confusion_matrix(y_test,y_pred)\n",
    "cm"
   ]
  },
  {
   "cell_type": "code",
   "execution_count": 80,
   "metadata": {},
   "outputs": [
    {
     "data": {
      "text/plain": [
       "array([3.47961138])"
      ]
     },
     "execution_count": 80,
     "metadata": {},
     "output_type": "execute_result"
    }
   ],
   "source": [
    "model.intercept_"
   ]
  },
  {
   "cell_type": "code",
   "execution_count": 81,
   "metadata": {},
   "outputs": [
    {
     "data": {
      "text/plain": [
       "array([[ 1.4654198 , -2.29751095]])"
      ]
     },
     "execution_count": 81,
     "metadata": {},
     "output_type": "execute_result"
    }
   ],
   "source": [
    "model.coef_\n"
   ]
  },
  {
   "cell_type": "code",
   "execution_count": 82,
   "metadata": {},
   "outputs": [
    {
     "data": {
      "text/plain": [
       "array([[8.33137919e-01, 1.66862081e-01],\n",
       "       [8.94328628e-01, 1.05671372e-01],\n",
       "       [9.53178780e-01, 4.68212200e-02],\n",
       "       [9.53579179e-01, 4.64208211e-02],\n",
       "       [8.88661191e-01, 1.11338809e-01],\n",
       "       [1.64642311e-02, 9.83535769e-01],\n",
       "       [9.99791974e-01, 2.08026251e-04],\n",
       "       [9.99795154e-01, 2.04845934e-04],\n",
       "       [8.79866889e-01, 1.20133111e-01],\n",
       "       [9.99531759e-01, 4.68240694e-04],\n",
       "       [4.55002028e-03, 9.95449980e-01],\n",
       "       [7.58754609e-03, 9.92412454e-01],\n",
       "       [9.06206107e-01, 9.37938928e-02],\n",
       "       [9.67864877e-01, 3.21351233e-02],\n",
       "       [1.83383549e-01, 8.16616451e-01],\n",
       "       [9.91475837e-01, 8.52416303e-03],\n",
       "       [5.29011693e-01, 4.70988307e-01],\n",
       "       [9.57552673e-01, 4.24473266e-02],\n",
       "       [8.66734362e-01, 1.33265638e-01],\n",
       "       [2.79298068e-05, 9.99972070e-01],\n",
       "       [9.98124645e-01, 1.87535486e-03],\n",
       "       [1.84990269e-03, 9.98150097e-01],\n",
       "       [9.90452636e-01, 9.54736403e-03],\n",
       "       [5.07885691e-02, 9.49211431e-01],\n",
       "       [9.99930155e-01, 6.98447101e-05]])"
      ]
     },
     "execution_count": 82,
     "metadata": {},
     "output_type": "execute_result"
    }
   ],
   "source": [
    "model.predict_proba(x_test)"
   ]
  },
  {
   "cell_type": "code",
   "execution_count": 83,
   "metadata": {},
   "outputs": [
    {
     "data": {
      "text/plain": [
       "'              precision    recall  f1-score   support\\n\\n         0.0       1.00      1.00      1.00        18\\n         1.0       1.00      1.00      1.00         7\\n\\n    accuracy                           1.00        25\\n   macro avg       1.00      1.00      1.00        25\\nweighted avg       1.00      1.00      1.00        25\\n'"
      ]
     },
     "execution_count": 83,
     "metadata": {},
     "output_type": "execute_result"
    }
   ],
   "source": [
    "classification_report(y_test,y_pred)"
   ]
  },
  {
   "cell_type": "code",
   "execution_count": 84,
   "metadata": {},
   "outputs": [
    {
     "data": {
      "image/png": "[encoded data removed]",
      "text/plain": [
       "<Figure size 576x576 with 1 Axes>"
      ]
     },
     "metadata": {
      "needs_background": "light"
     },
     "output_type": "display_data"
    }
   ],
   "source": [
    "cm = confusion_matrix(y_test, model.predict(x_test))\n",
    "\n",
    "fig, ax = plt.subplots(figsize=(8, 8))\n",
    "ax.imshow(cm)\n",
    "ax.grid(False)\n",
    "ax.xaxis.set(ticks=(0, 1), ticklabels=('Predicted 0s', 'Predicted 1s'))\n",
    "ax.yaxis.set(ticks=(0, 1), ticklabels=('Actual 0s', 'Actual 1s'))\n",
    "ax.set_ylim(1.5, -0.5)\n",
    "for i in range(len(cm[0])):\n",
    "    for j in range(len(cm)):\n",
    "        ax.text(j, i, cm[i, j], ha='center', va='center', color='red')\n",
    "plt.show()\n",
    "\n"
   ]
  },
  {
   "cell_type": "code",
   "execution_count": null,
   "metadata": {},
   "outputs": [],
   "source": []
  },
  {
   "cell_type": "code",
   "execution_count": null,
   "metadata": {},
   "outputs": [],
   "source": []
  }
 ],
 "metadata": {
  "kernelspec": {
   "display_name": "Python 3",
   "language": "python",
   "name": "python3"
  },
  "language_info": {
   "codemirror_mode": {
    "name": "ipython",
    "version": 3
   },
   "file_extension": ".py",
   "mimetype": "text/x-python",
   "name": "python",
   "nbconvert_exporter": "python",
   "pygments_lexer": "ipython3",
   "version": "3.8.3"
  }
 },
 "nbformat": 4,
 "nbformat_minor": 4
}
