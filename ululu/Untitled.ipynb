{
 "cells": [
  {
   "cell_type": "code",
   "execution_count": 4,
   "metadata": {},
   "outputs": [],
   "source": [
    "import numpy as np\n",
    "import quandl"
   ]
  },
  {
   "cell_type": "code",
   "execution_count": 5,
   "metadata": {},
   "outputs": [],
   "source": [
    "df = quandl.get(\"EURONEXT/ADYEN\", authtoken=\"XHDJBSN6hfbNYjFRAHJV\")"
   ]
  },
  {
   "cell_type": "code",
   "execution_count": 7,
   "metadata": {},
   "outputs": [
    {
     "name": "stdout",
     "output_type": "stream",
     "text": [
      "             Open    High    Low   Last     Volume     Turnover\n",
      "Date                                                           \n",
      "2018-06-13  400.0  503.90  400.0  455.0  1529232.0  674779793.0\n",
      "2018-06-14  469.0  484.00  438.0  438.0   148388.0   68540008.0\n",
      "2018-06-15  435.4  437.25  415.1  420.0   116467.0   49560634.0\n",
      "2018-06-18  422.0  422.75  401.2  411.0    88873.0   36471156.0\n",
      "2018-06-19  409.7  425.00  401.9  412.5    63138.0   26221340.0\n"
     ]
    }
   ],
   "source": [
    "print(df.head())"
   ]
  },
  {
   "cell_type": "code",
   "execution_count": null,
   "metadata": {},
   "outputs": [],
   "source": []
  }
 ],
 "metadata": {
  "kernelspec": {
   "display_name": "Python 3",
   "language": "python",
   "name": "python3"
  },
  "language_info": {
   "codemirror_mode": {
    "name": "ipython",
    "version": 3
   },
   "file_extension": ".py",
   "mimetype": "text/x-python",
   "name": "python",
   "nbconvert_exporter": "python",
   "pygments_lexer": "ipython3",
   "version": "3.8.3"
  }
 },
 "nbformat": 4,
 "nbformat_minor": 4
}
